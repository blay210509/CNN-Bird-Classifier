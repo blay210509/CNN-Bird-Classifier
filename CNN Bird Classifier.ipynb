{
  "cells": [
    {
      "cell_type": "code",
      "source": [
        "# TO USE, upload an api key from Kaggle (kaggle.json)\n",
        "# Runtime -> Change runtime type -> Hardware accelerator set to GPU (optional)"
      ],
      "metadata": {
        "id": "owP2nwNxiIaG"
      },
      "execution_count": null,
      "outputs": []
    },
    {
      "cell_type": "code",
      "execution_count": null,
      "metadata": {
        "colab": {
          "base_uri": "https://localhost:8080/"
        },
        "id": "qy3OR0U9UH4F",
        "outputId": "6d6d7fcb-f755-4a71-dbef-658626ef5580"
      },
      "outputs": [
        {
          "output_type": "stream",
          "name": "stdout",
          "text": [
            "Looking in indexes: https://pypi.org/simple, https://us-python.pkg.dev/colab-wheels/public/simple/\n",
            "Requirement already satisfied: tensorflow in /usr/local/lib/python3.7/dist-packages (2.9.2)\n",
            "Requirement already satisfied: gast<=0.4.0,>=0.2.1 in /usr/local/lib/python3.7/dist-packages (from tensorflow) (0.4.0)\n",
            "Requirement already satisfied: libclang>=13.0.0 in /usr/local/lib/python3.7/dist-packages (from tensorflow) (14.0.6)\n",
            "Requirement already satisfied: termcolor>=1.1.0 in /usr/local/lib/python3.7/dist-packages (from tensorflow) (2.1.0)\n",
            "Requirement already satisfied: setuptools in /usr/local/lib/python3.7/dist-packages (from tensorflow) (57.4.0)\n",
            "Requirement already satisfied: flatbuffers<2,>=1.12 in /usr/local/lib/python3.7/dist-packages (from tensorflow) (1.12)\n",
            "Requirement already satisfied: typing-extensions>=3.6.6 in /usr/local/lib/python3.7/dist-packages (from tensorflow) (4.1.1)\n",
            "Requirement already satisfied: keras-preprocessing>=1.1.1 in /usr/local/lib/python3.7/dist-packages (from tensorflow) (1.1.2)\n",
            "Requirement already satisfied: absl-py>=1.0.0 in /usr/local/lib/python3.7/dist-packages (from tensorflow) (1.3.0)\n",
            "Requirement already satisfied: grpcio<2.0,>=1.24.3 in /usr/local/lib/python3.7/dist-packages (from tensorflow) (1.50.0)\n",
            "Requirement already satisfied: numpy>=1.20 in /usr/local/lib/python3.7/dist-packages (from tensorflow) (1.21.6)\n",
            "Requirement already satisfied: six>=1.12.0 in /usr/local/lib/python3.7/dist-packages (from tensorflow) (1.15.0)\n",
            "Requirement already satisfied: tensorflow-io-gcs-filesystem>=0.23.1 in /usr/local/lib/python3.7/dist-packages (from tensorflow) (0.27.0)\n",
            "Requirement already satisfied: protobuf<3.20,>=3.9.2 in /usr/local/lib/python3.7/dist-packages (from tensorflow) (3.19.6)\n",
            "Requirement already satisfied: packaging in /usr/local/lib/python3.7/dist-packages (from tensorflow) (21.3)\n",
            "Requirement already satisfied: keras<2.10.0,>=2.9.0rc0 in /usr/local/lib/python3.7/dist-packages (from tensorflow) (2.9.0)\n",
            "Requirement already satisfied: h5py>=2.9.0 in /usr/local/lib/python3.7/dist-packages (from tensorflow) (3.1.0)\n",
            "Requirement already satisfied: astunparse>=1.6.0 in /usr/local/lib/python3.7/dist-packages (from tensorflow) (1.6.3)\n",
            "Requirement already satisfied: wrapt>=1.11.0 in /usr/local/lib/python3.7/dist-packages (from tensorflow) (1.14.1)\n",
            "Requirement already satisfied: google-pasta>=0.1.1 in /usr/local/lib/python3.7/dist-packages (from tensorflow) (0.2.0)\n",
            "Requirement already satisfied: tensorboard<2.10,>=2.9 in /usr/local/lib/python3.7/dist-packages (from tensorflow) (2.9.1)\n",
            "Requirement already satisfied: tensorflow-estimator<2.10.0,>=2.9.0rc0 in /usr/local/lib/python3.7/dist-packages (from tensorflow) (2.9.0)\n",
            "Requirement already satisfied: opt-einsum>=2.3.2 in /usr/local/lib/python3.7/dist-packages (from tensorflow) (3.3.0)\n",
            "Requirement already satisfied: wheel<1.0,>=0.23.0 in /usr/local/lib/python3.7/dist-packages (from astunparse>=1.6.0->tensorflow) (0.38.4)\n",
            "Requirement already satisfied: cached-property in /usr/local/lib/python3.7/dist-packages (from h5py>=2.9.0->tensorflow) (1.5.2)\n",
            "Requirement already satisfied: google-auth<3,>=1.6.3 in /usr/local/lib/python3.7/dist-packages (from tensorboard<2.10,>=2.9->tensorflow) (2.14.1)\n",
            "Requirement already satisfied: google-auth-oauthlib<0.5,>=0.4.1 in /usr/local/lib/python3.7/dist-packages (from tensorboard<2.10,>=2.9->tensorflow) (0.4.6)\n",
            "Requirement already satisfied: requests<3,>=2.21.0 in /usr/local/lib/python3.7/dist-packages (from tensorboard<2.10,>=2.9->tensorflow) (2.23.0)\n",
            "Requirement already satisfied: tensorboard-data-server<0.7.0,>=0.6.0 in /usr/local/lib/python3.7/dist-packages (from tensorboard<2.10,>=2.9->tensorflow) (0.6.1)\n",
            "Requirement already satisfied: markdown>=2.6.8 in /usr/local/lib/python3.7/dist-packages (from tensorboard<2.10,>=2.9->tensorflow) (3.4.1)\n",
            "Requirement already satisfied: tensorboard-plugin-wit>=1.6.0 in /usr/local/lib/python3.7/dist-packages (from tensorboard<2.10,>=2.9->tensorflow) (1.8.1)\n",
            "Requirement already satisfied: werkzeug>=1.0.1 in /usr/local/lib/python3.7/dist-packages (from tensorboard<2.10,>=2.9->tensorflow) (1.0.1)\n",
            "Requirement already satisfied: pyasn1-modules>=0.2.1 in /usr/local/lib/python3.7/dist-packages (from google-auth<3,>=1.6.3->tensorboard<2.10,>=2.9->tensorflow) (0.2.8)\n",
            "Requirement already satisfied: cachetools<6.0,>=2.0.0 in /usr/local/lib/python3.7/dist-packages (from google-auth<3,>=1.6.3->tensorboard<2.10,>=2.9->tensorflow) (5.2.0)\n",
            "Requirement already satisfied: rsa<5,>=3.1.4 in /usr/local/lib/python3.7/dist-packages (from google-auth<3,>=1.6.3->tensorboard<2.10,>=2.9->tensorflow) (4.9)\n",
            "Requirement already satisfied: requests-oauthlib>=0.7.0 in /usr/local/lib/python3.7/dist-packages (from google-auth-oauthlib<0.5,>=0.4.1->tensorboard<2.10,>=2.9->tensorflow) (1.3.1)\n",
            "Requirement already satisfied: importlib-metadata>=4.4 in /usr/local/lib/python3.7/dist-packages (from markdown>=2.6.8->tensorboard<2.10,>=2.9->tensorflow) (4.13.0)\n",
            "Requirement already satisfied: zipp>=0.5 in /usr/local/lib/python3.7/dist-packages (from importlib-metadata>=4.4->markdown>=2.6.8->tensorboard<2.10,>=2.9->tensorflow) (3.10.0)\n",
            "Requirement already satisfied: pyasn1<0.5.0,>=0.4.6 in /usr/local/lib/python3.7/dist-packages (from pyasn1-modules>=0.2.1->google-auth<3,>=1.6.3->tensorboard<2.10,>=2.9->tensorflow) (0.4.8)\n",
            "Requirement already satisfied: chardet<4,>=3.0.2 in /usr/local/lib/python3.7/dist-packages (from requests<3,>=2.21.0->tensorboard<2.10,>=2.9->tensorflow) (3.0.4)\n",
            "Requirement already satisfied: urllib3!=1.25.0,!=1.25.1,<1.26,>=1.21.1 in /usr/local/lib/python3.7/dist-packages (from requests<3,>=2.21.0->tensorboard<2.10,>=2.9->tensorflow) (1.24.3)\n",
            "Requirement already satisfied: certifi>=2017.4.17 in /usr/local/lib/python3.7/dist-packages (from requests<3,>=2.21.0->tensorboard<2.10,>=2.9->tensorflow) (2022.9.24)\n",
            "Requirement already satisfied: idna<3,>=2.5 in /usr/local/lib/python3.7/dist-packages (from requests<3,>=2.21.0->tensorboard<2.10,>=2.9->tensorflow) (2.10)\n",
            "Requirement already satisfied: oauthlib>=3.0.0 in /usr/local/lib/python3.7/dist-packages (from requests-oauthlib>=0.7.0->google-auth-oauthlib<0.5,>=0.4.1->tensorboard<2.10,>=2.9->tensorflow) (3.2.2)\n",
            "Requirement already satisfied: pyparsing!=3.0.5,>=2.0.2 in /usr/local/lib/python3.7/dist-packages (from packaging->tensorflow) (3.0.9)\n",
            "Looking in indexes: https://pypi.org/simple, https://us-python.pkg.dev/colab-wheels/public/simple/\n",
            "Requirement already satisfied: keras in /usr/local/lib/python3.7/dist-packages (2.9.0)\n",
            "Looking in indexes: https://pypi.org/simple, https://us-python.pkg.dev/colab-wheels/public/simple/\n",
            "Requirement already satisfied: numpy in /usr/local/lib/python3.7/dist-packages (1.21.6)\n"
          ]
        }
      ],
      "source": [
        "!pip install tensorflow\n",
        "!pip install keras\n",
        "!pip install numpy"
      ]
    },
    {
      "cell_type": "code",
      "source": [
        "import keras\n",
        "import numpy as np\n",
        "import tensorflow as tf\n",
        "from keras.preprocessing.image import ImageDataGenerator\n",
        "import matplotlib.pyplot as plt\n",
        "from tensorflow.keras.applications.resnet50 import ResNet50, preprocess_input\n",
        "from tensorflow.keras.preprocessing import image"
      ],
      "metadata": {
        "id": "FfSkppOLUMQD"
      },
      "execution_count": null,
      "outputs": []
    },
    {
      "cell_type": "code",
      "source": [
        "!mkdir -p  ~/.kaggle\n",
        "!cp kaggle.json ~/.kaggle\n",
        "!chmod 600 ~/.kaggle/kaggle.json\n",
        "! kaggle datasets download -d gpiosenka/100-bird-species\n",
        "\n",
        "import zipfile\n",
        "local_zip = '/content/100-bird-species.zip'\n",
        "zip_ref = zipfile.ZipFile(local_zip, 'r')\n",
        "zip_ref.extractall('/content/')\n",
        "zip_ref.close()"
      ],
      "metadata": {
        "colab": {
          "base_uri": "https://localhost:8080/"
        },
        "id": "fU-vRhD7UQl0",
        "outputId": "191db303-b9a4-4ec2-c5ac-fb9cab2ca927"
      },
      "execution_count": 3,
      "outputs": [
        {
          "output_type": "stream",
          "name": "stdout",
          "text": [
            "Downloading 100-bird-species.zip to /content\n",
            "100% 1.69G/1.69G [00:43<00:00, 43.2MB/s]\n",
            "100% 1.69G/1.69G [00:43<00:00, 42.0MB/s]\n"
          ]
        }
      ]
    },
    {
      "cell_type": "code",
      "source": [
        "# Generate batches of tensor image data with real-time data augmentation.\n",
        "# https://www.tensorflow.org/api_docs/python/tf/keras/preprocessing/image/ImageDataGenerator\n",
        "\n",
        "train_preprocessor = ImageDataGenerator(\n",
        "        preprocessing_function = preprocess_input,\n",
        "        shear_range=0.2,\n",
        "        rotation_range=5,\n",
        "        zoom_range=0.15,\n",
        "        horizontal_flip=True)\n",
        "train_generator = train_preprocessor.flow_from_directory('/content/train',\n",
        "                                                    target_size=(224, 224),\n",
        "                                                    batch_size=32,\n",
        "                                                    class_mode='categorical'\n",
        "                                                    shuffle=True)\n",
        "\n",
        "val_preprocessor = ImageDataGenerator(preprocessing_function=preprocess_input)\n",
        "val_generator = val_preprocessor.flow_from_directory('/content/valid',\n",
        "                                                target_size=(224, 224),\n",
        "                                                batch_size=32,\n",
        "                                                class_mode='categorical')\n",
        "\n",
        "test_preprocessor = ImageDataGenerator(preprocessing_function=preprocess_input)\n",
        "test_generator = test_preprocessor.flow_from_directory('/content/test',\n",
        "                                                  target_size=(224, 224),\n",
        "                                                  batch_size=32,\n",
        "                                                  class_mode='categorical')"
      ],
      "metadata": {
        "colab": {
          "base_uri": "https://localhost:8080/"
        },
        "id": "tnqgztemUUAm",
        "outputId": "54b417cc-27a4-4cbb-fc46-1e8eb857e771"
      },
      "execution_count": null,
      "outputs": [
        {
          "output_type": "stream",
          "name": "stdout",
          "text": [
            "Found 70626 images belonging to 450 classes.\n",
            "Found 2250 images belonging to 450 classes.\n",
            "Found 2250 images belonging to 450 classes.\n"
          ]
        }
      ]
    },
    {
      "cell_type": "code",
      "source": [
        "# adapted from https://learning.oreilly.com/library/view/hands-on-machine-learning/9781098125967/ch14.html#idm45983091867328\n",
        "# and https://learning.oreilly.com/library/view/hands-on-machine-learning/9781098125967/ch11.html#idm45983104434448\n",
        "\n",
        "from keras.models import Sequential\n",
        "from keras.layers import Dense, Flatten, Dropout, GlobalAveragePooling2D\n",
        "\n",
        "# download base model\n",
        "base_model = ResNet50(weights='imagenet', input_shape=(224, 224, 3), include_top=False)\n",
        "# freeze layers in base model\n",
        "for layer in base_model.layers:\n",
        "    layer.trainable = False\n",
        "\n",
        "\n",
        "n_classes = 450\n",
        "model=Sequential()\n",
        "model.add(base_model)\n",
        "model.add(Flatten(input_shape=[224, 224]))\n",
        "model.add(Dense(2048,activation='relu',kernel_initializer='he_normal'))\n",
        "model.add(Dropout(rate=0.2))\n",
        "model.add(Dense(2048, activation=\"relu\", kernel_initializer=\"he_normal\"))\n",
        "model.add(Dropout(rate=0.2))\n",
        "model.add(Dense(n_classes, activation=\"softmax\"))\n",
        "\n",
        "\n",
        "optimizer = tf.keras.optimizers.Adam(learning_rate=0.0001)\n",
        "model.compile(loss=\"categorical_crossentropy\",\n",
        "              optimizer=optimizer,\n",
        "              metrics=[\"accuracy\"])\n",
        "\n",
        "model.summary()"
      ],
      "metadata": {
        "colab": {
          "base_uri": "https://localhost:8080/"
        },
        "id": "d2CkpRmnUXw_",
        "outputId": "2471b2b9-5063-4f95-97be-e7a67a6c5ca0"
      },
      "execution_count": null,
      "outputs": [
        {
          "output_type": "stream",
          "name": "stdout",
          "text": [
            "Downloading data from https://storage.googleapis.com/tensorflow/keras-applications/resnet/resnet50_weights_tf_dim_ordering_tf_kernels_notop.h5\n",
            "94773248/94765736 [==============================] - 0s 0us/step\n",
            "94781440/94765736 [==============================] - 0s 0us/step\n",
            "Model: \"sequential\"\n",
            "_________________________________________________________________\n",
            " Layer (type)                Output Shape              Param #   \n",
            "=================================================================\n",
            " resnet50 (Functional)       (None, 7, 7, 2048)        23587712  \n",
            "                                                                 \n",
            " flatten (Flatten)           (None, 100352)            0         \n",
            "                                                                 \n",
            " dense (Dense)               (None, 2048)              205522944 \n",
            "                                                                 \n",
            " dropout (Dropout)           (None, 2048)              0         \n",
            "                                                                 \n",
            " dense_1 (Dense)             (None, 2048)              4196352   \n",
            "                                                                 \n",
            " dropout_1 (Dropout)         (None, 2048)              0         \n",
            "                                                                 \n",
            " dense_2 (Dense)             (None, 450)               922050    \n",
            "                                                                 \n",
            "=================================================================\n",
            "Total params: 234,229,058\n",
            "Trainable params: 210,641,346\n",
            "Non-trainable params: 23,587,712\n",
            "_________________________________________________________________\n"
          ]
        }
      ]
    },
    {
      "cell_type": "code",
      "source": [
        "history = model.fit(train_generator, \n",
        "                    validation_data=val_generator, \n",
        "                    epochs=3, \n",
        "                    workers=10,\n",
        "                    use_multiprocessing=True)"
      ],
      "metadata": {
        "colab": {
          "base_uri": "https://localhost:8080/"
        },
        "id": "glhfrdtGUcP7",
        "outputId": "6a828d44-7737-4764-84a4-4ee39cc18617"
      },
      "execution_count": null,
      "outputs": [
        {
          "output_type": "stream",
          "name": "stdout",
          "text": [
            "Epoch 1/3\n",
            "1104/1104 [==============================] - 848s 750ms/step - loss: 2.5213 - accuracy: 0.4748 - val_loss: 0.5845 - val_accuracy: 0.8471\n",
            "Epoch 2/3\n",
            "1104/1104 [==============================] - 808s 724ms/step - loss: 0.9307 - accuracy: 0.7638 - val_loss: 0.3768 - val_accuracy: 0.8924\n",
            "Epoch 3/3\n",
            "1104/1104 [==============================] - 808s 725ms/step - loss: 0.6692 - accuracy: 0.8263 - val_loss: 0.3418 - val_accuracy: 0.9062\n"
          ]
        }
      ]
    },
    {
      "cell_type": "code",
      "source": [
        "# top layers are now relatively well-trained (above 80% accuracy), so unfreeze the\n",
        "# base_model's layers, reduce learning rate, recompile, and continue training\n",
        "for layer in base_model.layers[56:]:\n",
        "    layer.trainable = True\n",
        "\n",
        "optimizer = tf.keras.optimizers.Adam(learning_rate=0.00005)\n",
        "model.compile(loss=\"categorical_crossentropy\",\n",
        "              optimizer=optimizer,\n",
        "              metrics=[\"accuracy\"])\n",
        "history = model.fit(train_generator, \n",
        "                    validation_data=val_generator, \n",
        "                    epochs=10, \n",
        "                    workers=10,\n",
        "                    use_multiprocessing=True)"
      ],
      "metadata": {
        "colab": {
          "base_uri": "https://localhost:8080/"
        },
        "id": "ZDNXRhPOUhPU",
        "outputId": "ba1dc0c5-a680-438c-fbe1-49d5486ae085"
      },
      "execution_count": null,
      "outputs": [
        {
          "output_type": "stream",
          "name": "stdout",
          "text": [
            "Epoch 1/10\n",
            "1104/1104 [==============================] - 848s 754ms/step - loss: 0.4228 - accuracy: 0.8866 - val_loss: 0.2118 - val_accuracy: 0.9400\n",
            "Epoch 2/10\n",
            "1104/1104 [==============================] - 835s 749ms/step - loss: 0.2292 - accuracy: 0.9351 - val_loss: 0.2124 - val_accuracy: 0.9431\n",
            "Epoch 3/10\n",
            "1104/1104 [==============================] - 840s 752ms/step - loss: 0.1759 - accuracy: 0.9485 - val_loss: 0.2160 - val_accuracy: 0.9462\n",
            "Epoch 4/10\n",
            "1104/1104 [==============================] - 835s 750ms/step - loss: 0.1360 - accuracy: 0.9590 - val_loss: 0.1752 - val_accuracy: 0.9511\n",
            "Epoch 5/10\n",
            "1104/1104 [==============================] - 832s 746ms/step - loss: 0.1119 - accuracy: 0.9663 - val_loss: 0.1666 - val_accuracy: 0.9618\n",
            "Epoch 6/10\n",
            "1104/1104 [==============================] - 825s 740ms/step - loss: 0.1021 - accuracy: 0.9698 - val_loss: 0.1850 - val_accuracy: 0.9524\n",
            "Epoch 7/10\n",
            "1104/1104 [==============================] - 828s 741ms/step - loss: 0.0853 - accuracy: 0.9742 - val_loss: 0.1801 - val_accuracy: 0.9529\n",
            "Epoch 8/10\n",
            "1104/1104 [==============================] - 830s 745ms/step - loss: 0.0799 - accuracy: 0.9757 - val_loss: 0.1571 - val_accuracy: 0.9618\n",
            "Epoch 9/10\n",
            "1104/1104 [==============================] - 836s 751ms/step - loss: 0.0706 - accuracy: 0.9787 - val_loss: 0.1669 - val_accuracy: 0.9604\n",
            "Epoch 10/10\n",
            "1104/1104 [==============================] - 829s 744ms/step - loss: 0.0644 - accuracy: 0.9812 - val_loss: 0.1423 - val_accuracy: 0.9604\n"
          ]
        }
      ]
    },
    {
      "cell_type": "code",
      "source": [
        "model.evaluate(test_generator,\n",
        "               use_multiprocessing=True,\n",
        "               workers=10)"
      ],
      "metadata": {
        "colab": {
          "base_uri": "https://localhost:8080/"
        },
        "id": "_Jd0NA-UUi-R",
        "outputId": "8bcca53a-b59b-4415-9ccf-40f4492ed286"
      },
      "execution_count": null,
      "outputs": [
        {
          "output_type": "stream",
          "name": "stdout",
          "text": [
            "71/71 [==============================] - 11s 139ms/step - loss: 0.1142 - accuracy: 0.9684\n"
          ]
        },
        {
          "output_type": "execute_result",
          "data": {
            "text/plain": [
              "[0.11417487263679504, 0.9684444665908813]"
            ]
          },
          "metadata": {},
          "execution_count": 8
        }
      ]
    },
    {
      "cell_type": "code",
      "source": [
        "# save trained model\n",
        "model.save('trained_bird_CNN')"
      ],
      "metadata": {
        "id": "OKllDGqdI2CX"
      },
      "execution_count": null,
      "outputs": []
    },
    {
      "cell_type": "code",
      "source": [
        "# zip saved model\n",
        "!zip -r /content/trained_bird_CNN.zip /content/trained_bird_CNN\n",
        "\n",
        "from google.colab import files\n",
        "files.download(\"/content/trained_bird_CNN.zip\")"
      ],
      "metadata": {
        "colab": {
          "base_uri": "https://localhost:8080/",
          "height": 159
        },
        "outputId": "f1a4db06-f90d-4816-83ba-3efbede34696",
        "id": "o5NvWfM7I2CY"
      },
      "execution_count": null,
      "outputs": [
        {
          "output_type": "stream",
          "name": "stdout",
          "text": [
            "  adding: content/trained_bird_CNN/ (stored 0%)\n",
            "  adding: content/trained_bird_CNN/variables/ (stored 0%)\n",
            "  adding: content/trained_bird_CNN/variables/variables.index (deflated 80%)\n",
            "  adding: content/trained_bird_CNN/variables/variables.data-00000-of-00001 (deflated 16%)\n",
            "  adding: content/trained_bird_CNN/assets/ (stored 0%)\n",
            "  adding: content/trained_bird_CNN/saved_model.pb (deflated 92%)\n",
            "  adding: content/trained_bird_CNN/keras_metadata.pb (deflated 96%)\n"
          ]
        },
        {
          "output_type": "display_data",
          "data": {
            "text/plain": [
              "<IPython.core.display.Javascript object>"
            ],
            "application/javascript": [
              "\n",
              "    async function download(id, filename, size) {\n",
              "      if (!google.colab.kernel.accessAllowed) {\n",
              "        return;\n",
              "      }\n",
              "      const div = document.createElement('div');\n",
              "      const label = document.createElement('label');\n",
              "      label.textContent = `Downloading \"${filename}\": `;\n",
              "      div.appendChild(label);\n",
              "      const progress = document.createElement('progress');\n",
              "      progress.max = size;\n",
              "      div.appendChild(progress);\n",
              "      document.body.appendChild(div);\n",
              "\n",
              "      const buffers = [];\n",
              "      let downloaded = 0;\n",
              "\n",
              "      const channel = await google.colab.kernel.comms.open(id);\n",
              "      // Send a message to notify the kernel that we're ready.\n",
              "      channel.send({})\n",
              "\n",
              "      for await (const message of channel.messages) {\n",
              "        // Send a message to notify the kernel that we're ready.\n",
              "        channel.send({})\n",
              "        if (message.buffers) {\n",
              "          for (const buffer of message.buffers) {\n",
              "            buffers.push(buffer);\n",
              "            downloaded += buffer.byteLength;\n",
              "            progress.value = downloaded;\n",
              "          }\n",
              "        }\n",
              "      }\n",
              "      const blob = new Blob(buffers, {type: 'application/binary'});\n",
              "      const a = document.createElement('a');\n",
              "      a.href = window.URL.createObjectURL(blob);\n",
              "      a.download = filename;\n",
              "      div.appendChild(a);\n",
              "      a.click();\n",
              "      div.remove();\n",
              "    }\n",
              "  "
            ]
          },
          "metadata": {}
        },
        {
          "output_type": "display_data",
          "data": {
            "text/plain": [
              "<IPython.core.display.Javascript object>"
            ],
            "application/javascript": [
              "download(\"download_d9680570-0018-47aa-bcd2-7b91ef869d5b\", \"trained_bird_CNN.zip\", 2343624137)"
            ]
          },
          "metadata": {}
        }
      ]
    },
    {
      "cell_type": "code",
      "execution_count": null,
      "metadata": {
        "id": "h0may40kXkEY"
      },
      "outputs": [],
      "source": [
        "# https://keras.io/api/preprocessing/image/\n",
        "# function to print resized input image and model's top three predictions\n",
        "\n",
        "def classify(img_path, model, label_map, top_n=3):\n",
        "  img = image.load_img(img_path, grayscale=False, target_size=(224, 224))\n",
        "  input_arr = image.img_to_array(img)\n",
        "  input_arr = np.expand_dims(input_arr, axis=0)\n",
        "  input_arr = preprocess_input(input_arr) # preprocess function specific to ResNet50\n",
        "\n",
        "  predictions = model.predict(input_arr)\n",
        "\n",
        "  top_n_indices = np.argpartition(predictions[0], -top_n)[-top_n:] # gets top_n prediction indices\n",
        "  top_n_indices = top_n_indices[np.argsort(predictions[0][top_n_indices])] # sorts by prediction confidence\n",
        "  top_n_indices = top_n_indices[::-1] # reverses array so that sorted most to least confident\n",
        "\n",
        "\n",
        "  for index in top_n_indices:\n",
        "    print(label_map[index], predictions[0][index])\n",
        "  plt.matshow(img)"
      ]
    },
    {
      "cell_type": "code",
      "execution_count": null,
      "metadata": {
        "id": "VBARlTwRUZ3G"
      },
      "outputs": [],
      "source": [
        "label_map = (test_generator.class_indices) # maps index in predict array to species name\n",
        "label_map = {v: k for k, v in label_map.items()} # inverts key-value pairs so that index is key\n",
        "\n",
        "# for human evaluation of model performance on test images\n",
        "\n",
        "species_name = \"SCARLET MACAW\"\n",
        "import os\n",
        "dir = \"/content/test/\" + species_name\n",
        "for filename in os.listdir(dir):\n",
        "  if filename.endswith(\"jpg\"): \n",
        "    img_path = dir + \"/\" + filename\n",
        "    print(\"\\n\" + img_path)\n",
        "    classify(img_path, model, label_map, top_n=3)"
      ]
    },
    {
      "cell_type": "code",
      "execution_count": null,
      "metadata": {
        "id": "w2KreqKW1q-v"
      },
      "outputs": [],
      "source": [
        "classify(\"/content/african firefinch.jpeg\", model, label_map, top_n=3)"
      ]
    }
  ],
  "metadata": {
    "colab": {
      "provenance": []
    },
    "kernelspec": {
      "display_name": "Python 3",
      "name": "python3"
    },
    "language_info": {
      "name": "python"
    },
    "accelerator": "GPU"
  },
  "nbformat": 4,
  "nbformat_minor": 0
}